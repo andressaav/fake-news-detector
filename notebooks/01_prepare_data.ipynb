{
 "cells": [
  {
   "cell_type": "code",
   "execution_count": 1,
   "id": "0ece2e02",
   "metadata": {},
   "outputs": [],
   "source": [
    "import pandas as pd"
   ]
  },
  {
   "cell_type": "code",
   "execution_count": 9,
   "id": "ce25a711",
   "metadata": {},
   "outputs": [],
   "source": [
    "# Load CSVs\n",
    "df_fake = pd.read_csv(\"/Users/andressaavedra/fake-news-detector/fake-news-detector/data/raw/Fake.csv\")\n",
    "df_real = pd.read_csv(\"/Users/andressaavedra/fake-news-detector/fake-news-detector/data/raw/True.csv\")"
   ]
  },
  {
   "cell_type": "code",
   "execution_count": 10,
   "id": "49a63927",
   "metadata": {},
   "outputs": [],
   "source": [
    "#Add labels\n",
    "df_fake[\"label\"] = \"FAKE\"\n",
    "df_real[\"label\"] = \"REAL\""
   ]
  },
  {
   "cell_type": "code",
   "execution_count": 11,
   "id": "b29fd7e7",
   "metadata": {},
   "outputs": [],
   "source": [
    "# Combine into one dataframe\n",
    "df = pd.concat([df_fake, df_real], ignore_index = True)"
   ]
  },
  {
   "cell_type": "code",
   "execution_count": 14,
   "id": "37ad102f",
   "metadata": {},
   "outputs": [],
   "source": [
    "# Save combined dataset\n",
    "df.to_csv(\"/Users/andressaavedra/fake-news-detector/fake-news-detector/data/processed/news.csv\", index=False)"
   ]
  },
  {
   "cell_type": "code",
   "execution_count": 15,
   "id": "71e20096",
   "metadata": {},
   "outputs": [
    {
     "name": "stdout",
     "output_type": "stream",
     "text": [
      "                                               title  \\\n",
      "0   Donald Trump Sends Out Embarrassing New Year’...   \n",
      "1   Drunk Bragging Trump Staffer Started Russian ...   \n",
      "2   Sheriff David Clarke Becomes An Internet Joke...   \n",
      "3   Trump Is So Obsessed He Even Has Obama’s Name...   \n",
      "4   Pope Francis Just Called Out Donald Trump Dur...   \n",
      "\n",
      "                                                text subject  \\\n",
      "0  Donald Trump just couldn t wish all Americans ...    News   \n",
      "1  House Intelligence Committee Chairman Devin Nu...    News   \n",
      "2  On Friday, it was revealed that former Milwauk...    News   \n",
      "3  On Christmas day, Donald Trump announced that ...    News   \n",
      "4  Pope Francis used his annual Christmas Day mes...    News   \n",
      "\n",
      "                date label  \n",
      "0  December 31, 2017  FAKE  \n",
      "1  December 31, 2017  FAKE  \n",
      "2  December 30, 2017  FAKE  \n",
      "3  December 29, 2017  FAKE  \n",
      "4  December 25, 2017  FAKE  \n",
      "label\n",
      "FAKE    23481\n",
      "REAL    21417\n",
      "Name: count, dtype: int64\n"
     ]
    }
   ],
   "source": [
    "print(df.head())\n",
    "print(df[\"label\"].value_counts())"
   ]
  }
 ],
 "metadata": {
  "kernelspec": {
   "display_name": ".venv",
   "language": "python",
   "name": "python3"
  },
  "language_info": {
   "codemirror_mode": {
    "name": "ipython",
    "version": 3
   },
   "file_extension": ".py",
   "mimetype": "text/x-python",
   "name": "python",
   "nbconvert_exporter": "python",
   "pygments_lexer": "ipython3",
   "version": "3.13.7"
  }
 },
 "nbformat": 4,
 "nbformat_minor": 5
}
